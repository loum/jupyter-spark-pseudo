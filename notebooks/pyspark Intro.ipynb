{
 "cells": [
  {
   "cell_type": "markdown",
   "id": "51d155c0",
   "metadata": {},
   "source": [
    "# So far, so good!\n",
    "\n",
    "At this point `pyspark` should be running behind the scenes.  To validate, dump the SparkContext help:"
   ]
  },
  {
   "cell_type": "code",
   "execution_count": null,
   "id": "6fb0a277",
   "metadata": {
    "scrolled": true
   },
   "outputs": [],
   "source": [
    "help(sc)"
   ]
  },
  {
   "cell_type": "markdown",
   "id": "d0106fd5",
   "metadata": {},
   "source": [
    "# Things to note when coding ...\n",
    "\n",
    "Spark context available as `sc`.\n",
    "\n",
    "SparkSession available as `spark`."
   ]
  },
  {
   "cell_type": "markdown",
   "id": "476781f7",
   "metadata": {},
   "source": [
    "# Example\n",
    "Taken from [Spark examples](https://github.com/apache/spark/blob/master/examples/src/main/python/pi.py)"
   ]
  },
  {
   "cell_type": "code",
   "execution_count": 2,
   "id": "87cfe4af",
   "metadata": {},
   "outputs": [
    {
     "name": "stderr",
     "output_type": "stream",
     "text": [
      "\r",
      "[Stage 0:>                                                          (0 + 2) / 2]\r"
     ]
    },
    {
     "name": "stdout",
     "output_type": "stream",
     "text": [
      "Pi is roughly 3.143960\n"
     ]
    },
    {
     "name": "stderr",
     "output_type": "stream",
     "text": [
      "\r",
      "                                                                                \r"
     ]
    }
   ],
   "source": [
    "import sys\n",
    "from random import random\n",
    "from operator import add\n",
    "\n",
    "partitions = 2\n",
    "n = 100000 * partitions\n",
    "\n",
    "def f(_):\n",
    "    x = random() * 2 - 1\n",
    "    y = random() * 2 - 1\n",
    "    return 1 if x ** 2 + y ** 2 <= 1 else 0\n",
    "\n",
    "count = sc.parallelize(range(1, n + 1), partitions).map(f).reduce(add)\n",
    "print(\"Pi is roughly %f\" % (4.0 * count / n))"
   ]
  }
 ],
 "metadata": {
  "kernelspec": {
   "display_name": "Python 3 (ipykernel)",
   "language": "python",
   "name": "python3"
  },
  "language_info": {
   "codemirror_mode": {
    "name": "ipython",
    "version": 3
   },
   "file_extension": ".py",
   "mimetype": "text/x-python",
   "name": "python",
   "nbconvert_exporter": "python",
   "pygments_lexer": "ipython3",
   "version": "3.8.10"
  }
 },
 "nbformat": 4,
 "nbformat_minor": 5
}
